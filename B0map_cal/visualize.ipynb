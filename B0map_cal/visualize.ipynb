{
 "cells": [
  {
   "cell_type": "code",
   "execution_count": null,
   "metadata": {},
   "outputs": [],
   "source": [
    "import matplotlib.pyplot as plt\n",
    "import numpy as np\n",
    "import ipywidgets as widgets\n",
    "from IPython.display import display\n",
    "\n",
    "def interactive_B0_viewer(B0_maps, vmin=-75, vmax=75):\n",
    "    views = {\n",
    "        \"Sagittal\": lambda vol, idx: vol[idx, :, :],\n",
    "        \"Coronal\": lambda vol, idx: vol[:, idx, :],\n",
    "        \"Axial\": lambda vol, idx: vol[:, :, idx]\n",
    "    }\n",
    "\n",
    "    shape = B0_maps['default'].shape\n",
    "    methods = list(B0_maps.keys())\n",
    "\n",
    "    sag_slider = widgets.IntSlider(min=0, max=shape[0]-1, value=shape[0]//2, description='Sagittal')\n",
    "    cor_slider = widgets.IntSlider(min=0, max=shape[1]-1, value=shape[1]//2, description='Coronal')\n",
    "    axi_slider = widgets.IntSlider(min=0, max=shape[2]-1, value=shape[2]//2, description='Axial')\n",
    "\n",
    "    sliders = widgets.HBox([sag_slider, cor_slider, axi_slider])\n",
    "\n",
    "    output = widgets.Output()\n",
    "\n",
    "    def plot_slices(sag, cor, axi):\n",
    "        with output:\n",
    "            output.clear_output(wait=True)\n",
    "            slice_dict = {\"Sagittal\": sag, \"Coronal\": cor, \"Axial\": axi}\n",
    "            fig, axes = plt.subplots(len(methods), len(views), figsize=(12, 3 * len(methods)))\n",
    "\n",
    "            for i, method in enumerate(methods):\n",
    "                B0 = B0_maps[method]\n",
    "                for j, (view_name, slicer) in enumerate(views.items()):\n",
    "                    idx = slice_dict[view_name]\n",
    "                    img = slicer(B0, idx).T\n",
    "                    ax = axes[i, j]\n",
    "                    ax.imshow(img, cmap='jet', vmin=vmin, vmax=vmax, origin='lower')\n",
    "                    ax.set_title(f\"{method} - {view_name}\")\n",
    "                    ax.axis(\"off\")\n",
    "                    fig.colorbar(ax.images[0], ax=ax, fraction=0.046, pad=0.01)\n",
    "\n",
    "            plt.tight_layout()\n",
    "            plt.show()\n",
    "\n",
    "    ui = widgets.interactive_output(plot_slices, {\n",
    "        'sag': sag_slider,\n",
    "        'cor': cor_slider,\n",
    "        'axi': axi_slider\n",
    "    })\n",
    "\n",
    "    app = widgets.VBox([sliders, output])\n",
    "    display(app)\n",
    "\n",
    "    plot_slices(sag_slider.value, cor_slider.value, axi_slider.value)\n"
   ]
  },
  {
   "cell_type": "code",
   "execution_count": 4,
   "metadata": {},
   "outputs": [
    {
     "data": {
      "application/vnd.jupyter.widget-view+json": {
       "model_id": "c90fb82d6c0e4f179a18a586c2e47b22",
       "version_major": 2,
       "version_minor": 0
      },
      "text/plain": [
       "VBox(children=(HBox(children=(IntSlider(value=66, description='Sagittal', max=131), IntSlider(value=59, descri…"
      ]
     },
     "metadata": {},
     "output_type": "display_data"
    }
   ],
   "source": [
    "import nibabel as nib\n",
    "\n",
    "B0_noshim = nib.load(\"Nifti/CY_phase_nii/WSJ_OPT_20250620-182313-1823_182342_nii/WSJ_OPT_20250620-182313-1823_182342_deltaB0_ppm.nii.gz\").get_fdata() \n",
    "B0_aftershim = nib.load(\"Nifti/CY_phase_nii/WSJ_OPT_20250620-182313-1823_182342_nii/WSJ_OPT_20250620-182313-1823_182342_deltaB0_ppm.nii.gz\").get_fdata() \n",
    "\n",
    "\n",
    "B0_maps = {\n",
    "    \"default\": B0_noshim,\n",
    "    \"shim\": B0_noshim\n",
    "}\n",
    "\n",
    "interactive_B0_viewer(B0_maps, vmin=-2, vmax=2)\n"
   ]
  }
 ],
 "metadata": {
  "kernelspec": {
   "display_name": "lpc",
   "language": "python",
   "name": "python3"
  },
  "language_info": {
   "codemirror_mode": {
    "name": "ipython",
    "version": 3
   },
   "file_extension": ".py",
   "mimetype": "text/x-python",
   "name": "python",
   "nbconvert_exporter": "python",
   "pygments_lexer": "ipython3",
   "version": "3.10.15"
  }
 },
 "nbformat": 4,
 "nbformat_minor": 2
}
