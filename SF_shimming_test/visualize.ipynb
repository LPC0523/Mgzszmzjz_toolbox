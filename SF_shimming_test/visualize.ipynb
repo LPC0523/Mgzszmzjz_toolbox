{
 "cells": [
  {
   "cell_type": "code",
   "execution_count": 1,
   "metadata": {},
   "outputs": [],
   "source": [
    "import matplotlib.pyplot as plt\n",
    "import numpy as np\n",
    "import ipywidgets as widgets\n",
    "from IPython.display import display\n",
    "\n",
    "def interactive_B0_viewer(B0_maps, vmin=-75, vmax=75):\n",
    "    views = {\n",
    "        \"Sagittal\": lambda vol, idx: vol[idx, :, :],\n",
    "        \"Coronal\": lambda vol, idx: vol[:, idx, :],\n",
    "        \"Axial\": lambda vol, idx: vol[:, :, idx]\n",
    "    }\n",
    "\n",
    "    shape = B0_maps['default'].shape\n",
    "    methods = list(B0_maps.keys())\n",
    "\n",
    "    sag_slider = widgets.IntSlider(min=0, max=shape[0]-1, value=shape[0]//2, description='Sagittal')\n",
    "    cor_slider = widgets.IntSlider(min=0, max=shape[1]-1, value=shape[1]//2, description='Coronal')\n",
    "    axi_slider = widgets.IntSlider(min=0, max=shape[2]-1, value=shape[2]//2, description='Axial')\n",
    "\n",
    "    sliders = widgets.HBox([sag_slider, cor_slider, axi_slider])\n",
    "\n",
    "    output = widgets.Output()\n",
    "\n",
    "    def plot_slices(sag, cor, axi):\n",
    "        with output:\n",
    "            output.clear_output(wait=True)\n",
    "            slice_dict = {\"Sagittal\": sag, \"Coronal\": cor, \"Axial\": axi}\n",
    "            fig, axes = plt.subplots(len(methods), len(views), figsize=(12, 3 * len(methods)))\n",
    "\n",
    "            for i, method in enumerate(methods):\n",
    "                B0 = B0_maps[method]\n",
    "                for j, (view_name, slicer) in enumerate(views.items()):\n",
    "                    idx = slice_dict[view_name]\n",
    "                    img = slicer(B0, idx).T\n",
    "                    ax = axes[i, j]\n",
    "                    ax.imshow(img, cmap='jet', vmin=vmin, vmax=vmax, origin='lower')\n",
    "                    ax.set_title(f\"{method} - {view_name}\")\n",
    "                    ax.axis(\"off\")\n",
    "                    fig.colorbar(ax.images[0], ax=ax, fraction=0.046, pad=0.01)\n",
    "\n",
    "            plt.tight_layout()\n",
    "            plt.show()\n",
    "\n",
    "    ui = widgets.interactive_output(plot_slices, {\n",
    "        'sag': sag_slider,\n",
    "        'cor': cor_slider,\n",
    "        'axi': axi_slider\n",
    "    })\n",
    "\n",
    "    app = widgets.VBox([sliders, output])\n",
    "    display(app)\n",
    "\n",
    "    plot_slices(sag_slider.value, cor_slider.value, axi_slider.value)\n"
   ]
  },
  {
   "cell_type": "code",
   "execution_count": null,
   "metadata": {},
   "outputs": [
    {
     "ename": "FileNotFoundError",
     "evalue": "No such file or no access: 'SF_shimming_test/Nifti/CY_PFC_nii/CY_PFC_deltaB0_hertz.nii.gz'",
     "output_type": "error",
     "traceback": [
      "\u001b[0;31m---------------------------------------------------------------------------\u001b[0m",
      "\u001b[0;31mFileNotFoundError\u001b[0m                         Traceback (most recent call last)",
      "File \u001b[0;32m~/.conda/envs/lpc/lib/python3.10/site-packages/nibabel/loadsave.py:101\u001b[0m, in \u001b[0;36mload\u001b[0;34m(filename, **kwargs)\u001b[0m\n\u001b[1;32m    100\u001b[0m \u001b[38;5;28;01mtry\u001b[39;00m:\n\u001b[0;32m--> 101\u001b[0m     stat_result \u001b[38;5;241m=\u001b[39m \u001b[43mos\u001b[49m\u001b[38;5;241;43m.\u001b[39;49m\u001b[43mstat\u001b[49m\u001b[43m(\u001b[49m\u001b[43mfilename\u001b[49m\u001b[43m)\u001b[49m\n\u001b[1;32m    102\u001b[0m \u001b[38;5;28;01mexcept\u001b[39;00m \u001b[38;5;167;01mOSError\u001b[39;00m:\n",
      "\u001b[0;31mFileNotFoundError\u001b[0m: [Errno 2] No such file or directory: 'SF_shimming_test/Nifti/CY_PFC_nii/CY_PFC_deltaB0_hertz.nii.gz'",
      "\nDuring handling of the above exception, another exception occurred:\n",
      "\u001b[0;31mFileNotFoundError\u001b[0m                         Traceback (most recent call last)",
      "Cell \u001b[0;32mIn[2], line 3\u001b[0m\n\u001b[1;32m      1\u001b[0m \u001b[38;5;28;01mimport\u001b[39;00m \u001b[38;5;21;01mnibabel\u001b[39;00m \u001b[38;5;28;01mas\u001b[39;00m \u001b[38;5;21;01mnib\u001b[39;00m\n\u001b[0;32m----> 3\u001b[0m B0_noshim \u001b[38;5;241m=\u001b[39m \u001b[43mnib\u001b[49m\u001b[38;5;241;43m.\u001b[39;49m\u001b[43mload\u001b[49m\u001b[43m(\u001b[49m\u001b[38;5;124;43m\"\u001b[39;49m\u001b[38;5;124;43mSF_shimming_test/Nifti/CY_PFC_nii/CY_PFC_deltaB0_hertz.nii.gz\u001b[39;49m\u001b[38;5;124;43m\"\u001b[39;49m\u001b[43m)\u001b[49m\u001b[38;5;241m.\u001b[39mget_fdata() \n\u001b[1;32m      4\u001b[0m B0_aftershim \u001b[38;5;241m=\u001b[39m nib\u001b[38;5;241m.\u001b[39mload(\u001b[38;5;124m\"\u001b[39m\u001b[38;5;124mSF_shimming_test/Nifti/CY_PFC_test2_nii/CY_PFC_test2_deltaB0_hertz.nii.gz\u001b[39m\u001b[38;5;124m\"\u001b[39m)\u001b[38;5;241m.\u001b[39mget_fdata() \n\u001b[1;32m      7\u001b[0m B0_maps \u001b[38;5;241m=\u001b[39m {\n\u001b[1;32m      8\u001b[0m     \u001b[38;5;124m\"\u001b[39m\u001b[38;5;124mdefault\u001b[39m\u001b[38;5;124m\"\u001b[39m: B0_noshim,\n\u001b[1;32m      9\u001b[0m     \u001b[38;5;124m\"\u001b[39m\u001b[38;5;124mshim\u001b[39m\u001b[38;5;124m\"\u001b[39m: B0_noshim\n\u001b[1;32m     10\u001b[0m }\n",
      "File \u001b[0;32m~/.conda/envs/lpc/lib/python3.10/site-packages/nibabel/loadsave.py:103\u001b[0m, in \u001b[0;36mload\u001b[0;34m(filename, **kwargs)\u001b[0m\n\u001b[1;32m    101\u001b[0m     stat_result \u001b[38;5;241m=\u001b[39m os\u001b[38;5;241m.\u001b[39mstat(filename)\n\u001b[1;32m    102\u001b[0m \u001b[38;5;28;01mexcept\u001b[39;00m \u001b[38;5;167;01mOSError\u001b[39;00m:\n\u001b[0;32m--> 103\u001b[0m     \u001b[38;5;28;01mraise\u001b[39;00m \u001b[38;5;167;01mFileNotFoundError\u001b[39;00m(\u001b[38;5;124mf\u001b[39m\u001b[38;5;124m\"\u001b[39m\u001b[38;5;124mNo such file or no access: \u001b[39m\u001b[38;5;124m'\u001b[39m\u001b[38;5;132;01m{\u001b[39;00mfilename\u001b[38;5;132;01m}\u001b[39;00m\u001b[38;5;124m'\u001b[39m\u001b[38;5;124m\"\u001b[39m)\n\u001b[1;32m    104\u001b[0m \u001b[38;5;28;01mif\u001b[39;00m stat_result\u001b[38;5;241m.\u001b[39mst_size \u001b[38;5;241m<\u001b[39m\u001b[38;5;241m=\u001b[39m \u001b[38;5;241m0\u001b[39m:\n\u001b[1;32m    105\u001b[0m     \u001b[38;5;28;01mraise\u001b[39;00m ImageFileError(\u001b[38;5;124mf\u001b[39m\u001b[38;5;124m\"\u001b[39m\u001b[38;5;124mEmpty file: \u001b[39m\u001b[38;5;124m'\u001b[39m\u001b[38;5;132;01m{\u001b[39;00mfilename\u001b[38;5;132;01m}\u001b[39;00m\u001b[38;5;124m'\u001b[39m\u001b[38;5;124m\"\u001b[39m)\n",
      "\u001b[0;31mFileNotFoundError\u001b[0m: No such file or no access: 'SF_shimming_test/Nifti/CY_PFC_nii/CY_PFC_deltaB0_hertz.nii.gz'"
     ]
    }
   ],
   "source": [
    "import nibabel as nib\n",
    "\n",
    "B0_noshim = nib.load(\"Nifti/CY_PFC_nii/CY_PFC_deltaB0_hertz.nii.gz\").get_fdata() \n",
    "B0_aftershim = nib.load(\"SF_shimming_test/Nifti/CY_PFC_test2_nii/CY_PFC_test2_deltaB0_hertz.nii.gz\").get_fdata() \n",
    "\n",
    "\n",
    "B0_maps = {\n",
    "    \"default\": B0_noshim,\n",
    "    \"shim\": B0_noshim\n",
    "}\n",
    "\n",
    "interactive_B0_viewer(B0_maps, vmin=-2, vmax=2)\n"
   ]
  }
 ],
 "metadata": {
  "kernelspec": {
   "display_name": "lpc",
   "language": "python",
   "name": "python3"
  },
  "language_info": {
   "codemirror_mode": {
    "name": "ipython",
    "version": 3
   },
   "file_extension": ".py",
   "mimetype": "text/x-python",
   "name": "python",
   "nbconvert_exporter": "python",
   "pygments_lexer": "ipython3",
   "version": "3.10.15"
  }
 },
 "nbformat": 4,
 "nbformat_minor": 2
}
